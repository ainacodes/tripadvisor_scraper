{
 "cells": [
  {
   "cell_type": "code",
   "execution_count": null,
   "metadata": {},
   "outputs": [],
   "source": [
    "!pip install requests beautifulSoup4"
   ]
  },
  {
   "cell_type": "code",
   "execution_count": 2,
   "metadata": {},
   "outputs": [],
   "source": [
    "import requests\n",
    "from bs4 import BeautifulSoup"
   ]
  },
  {
   "cell_type": "code",
   "execution_count": 3,
   "metadata": {},
   "outputs": [],
   "source": [
    "url = 'https://www.tripadvisor.com/Restaurant_Review-g60763-d478965-Reviews-Gallaghers_Steakhouse-New_York_City_New_York.html'"
   ]
  },
  {
   "cell_type": "code",
   "execution_count": 4,
   "metadata": {},
   "outputs": [],
   "source": [
    "headers = {\n",
    "    \"User-Agent\": 'Mozilla/5.0 (Windows NT 10.0; Win64; x64) AppleWebKit/537.36 (KHTML, like Gecko) Chrome/129.0.0.0 Safari/537.36',\n",
    "    \"Accept\": \"text/html,application/xhtml+xml,application/xml;q=0.9,image/webp,*/*;q=0.8\",\n",
    "    \"Accept-Language\": \"en-US,en;q=0.5\",\n",
    "    \"Accept-Encoding\": \"gzip, deflate, br\",\n",
    "    \"DNT\": \"1\",\n",
    "    \"Connection\": \"keep-alive\",\n",
    "    \"Upgrade-Insecure-Requests\": \"1\",\n",
    "}\n"
   ]
  },
  {
   "cell_type": "code",
   "execution_count": 5,
   "metadata": {},
   "outputs": [
    {
     "data": {
      "text/plain": [
       "200"
      ]
     },
     "execution_count": 5,
     "metadata": {},
     "output_type": "execute_result"
    }
   ],
   "source": [
    "response = requests.get(url, headers=headers)\n",
    "response.status_code"
   ]
  },
  {
   "cell_type": "code",
   "execution_count": 6,
   "metadata": {},
   "outputs": [],
   "source": [
    "soup = BeautifulSoup(response.content, 'html.parser')"
   ]
  },
  {
   "cell_type": "code",
   "execution_count": 7,
   "metadata": {},
   "outputs": [
    {
     "data": {
      "text/plain": [
       "'<!DOCTYPE html>\\n<html lang=\"en-US\">\\n <head>\\n  <link href=\"https://static.tacdn.com/favicon.ico?v2\" id=\"favicon\" rel=\"icon\" type=\"image/x-icon\"/>\\n  <link color=\"#000000\" href=\"https://static.tacdn.com/img2/brand_refresh/application_icons/mask-icon.svg\" rel=\"mask-icon\" sizes=\"any\"/>\\n  <meta content=\"#34e0a1\" name=\"theme-color\"/>\\n  <meta content=\"telephone=no\" name=\"format-detection\"/>\\n  <meta content=\"TripAdvisor\" property=\"al:ios:app_name\"/>\\n  <meta content=\"284876795\" property=\"al:ios:app_store_'"
      ]
     },
     "execution_count": 7,
     "metadata": {},
     "output_type": "execute_result"
    }
   ],
   "source": [
    "soup.prettify()[:500]"
   ]
  },
  {
   "cell_type": "code",
   "execution_count": 8,
   "metadata": {},
   "outputs": [
    {
     "name": "stdout",
     "output_type": "stream",
     "text": [
      "RESTAURANT NAME: Gallaghers Steakhouse\n"
     ]
    }
   ],
   "source": [
    "restaurant_name = soup.find('h1').text.strip()\n",
    "print('RESTAURANT NAME:', restaurant_name)"
   ]
  },
  {
   "cell_type": "code",
   "execution_count": 9,
   "metadata": {},
   "outputs": [
    {
     "name": "stdout",
     "output_type": "stream",
     "text": [
      "GENERAL INFOS: $$$$, Steakhouse, Seafood, Gluten free options\n"
     ]
    }
   ],
   "source": [
    "general_infos = soup.find('span', class_='cPbcf').text.strip()\n",
    "print('GENERAL INFOS:', general_infos)"
   ]
  },
  {
   "cell_type": "code",
   "execution_count": 10,
   "metadata": {},
   "outputs": [],
   "source": [
    "# Split the string by commas\n",
    "info_parts = general_infos.split(', ')\n",
    "# Extract price level (first element)\n",
    "price_level = info_parts[0]\n",
    "\n",
    "# Extract cuisine types (the rest of the elements)\n",
    "cuisine_type = ', '.join(info_parts[1:])"
   ]
  },
  {
   "cell_type": "code",
   "execution_count": 11,
   "metadata": {},
   "outputs": [
    {
     "name": "stdout",
     "output_type": "stream",
     "text": [
      "PRICE LEVEL: $$$$\n",
      "CUISINE TYPE: Steakhouse, Seafood, Gluten free options\n"
     ]
    }
   ],
   "source": [
    "print('PRICE LEVEL:', price_level)\n",
    "print('CUISINE TYPE:', cuisine_type)"
   ]
  },
  {
   "cell_type": "code",
   "execution_count": 12,
   "metadata": {},
   "outputs": [
    {
     "data": {
      "text/plain": [
       "3"
      ]
     },
     "execution_count": 12,
     "metadata": {},
     "output_type": "execute_result"
    }
   ],
   "source": [
    "detail_cards = soup.find_all('div', attrs={'data-automation': 'OVERVIEW_TAB_ELEMENT'})\n",
    "len(detail_cards)"
   ]
  },
  {
   "cell_type": "code",
   "execution_count": 13,
   "metadata": {},
   "outputs": [],
   "source": [
    "rating_info = detail_cards[0]"
   ]
  },
  {
   "cell_type": "code",
   "execution_count": 14,
   "metadata": {},
   "outputs": [
    {
     "data": {
      "text/plain": [
       "'<div class=\"JPyJY Pk PY Px PK Gi B1 Z BB z TnPuu\" data-automation=\"OVERVIEW_TAB_ELEMENT\">\\n <div class=\"QSyom f e Q3 _Z\">\\n  <div class=\"biGQs _P fiohW ngXxk\">\\n   Ratings and reviews\\n  </div>\\n  <div class=\"sOyfn u f K\">\\n   <span class=\"biGQs _P fiohW uuBRH\">\\n    4.5\\n   </span>\\n   <div class=\"vdFew\">\\n    <svg aria-labelledby=\":lithium-R4ckbqbnknvlq:\" class=\"UctUV d H0\" height=\"16\" viewbox=\"0 0 128 24\" width=\"88\">\\n     <title id=\":lithium-R4ckbqbnknvlq:\">\\n      4.5 of 5 bubbles\\n     </title>\\n     <path d=\"M 12 0C5.388 0 0 5.388 0 12s5.388 12 12 12 12-5.38 12-12c0-6.612-5.38-12-12-12z\" transform=\"\">\\n     </path>\\n     <path d=\"M 12 0C5.388 0 0 5.388 0 12s5.388 12 12 12 12-5.38 12-12c0-6.612-5.38-12-12-12z\" transform=\"translate(26 0)\">\\n     </path>\\n     <path d=\"M 12 0C5.388 0 0 5.388 0 12s5.388 12 12 12 12-5.38 12-12c0-6.612-5.38-12-12-12z\" transform=\"translate(52 0)\">\\n     </path>\\n     <path d=\"M 12 0C5.388 0 0 5.388 0 12s5.388 12 12 12 12-5.38 12-12c0-6.612-5.38-12-12-12z\" transform=\"translate(78 0)\">\\n     </path>\\n     <path d=\"M 12 0C5.389 0 0 5.389 0 12c0 6.62 5.389 12 12 12 6.62 0 12-5.379 12-12S18.621 0 12 0zm0 2a9.984 9.984 0 0110 10 9.976 9.976 0 01-10 10z\" transform=\"translate(104 0)\">\\n     </path>\\n    </svg>\\n   </div>\\n   <div class=\"jXaJR\">\\n    <a class=\"BMQDV _F Gv wSSLS SwZTJ FGwzt ukgoS\" href=\"#REVIEWS\">\\n     <span class=\"biGQs _P fiohW oXJmt\">\\n      5,980\\n      <!-- -->\\n      reviews\\n     </span>\\n    </a>\\n   </div>\\n  </div>\\n  <div class=\"f e Q1\">\\n   <div class=\"biGQs _P pZUbB hmDzD\">\\n    <a class=\"BMQDV _F Gv wSSLS SwZTJ FGwzt ukgoS\" href=\"/Restaurants-g60763-New_York_City_New_York.html\">\\n     <span>\\n      <b>\\n       <span>\\n        #41\\n       </span>\\n      </b>\\n      of 12,181 Restaurants in New York City\\n     </span>\\n    </a>\\n   </div>\\n  </div>\\n  <div class=\"u f Q1\">\\n   <div class=\"_W I\">\\n    <svg class=\"d Vb UmNoP\" height=\"20px\" viewbox=\"0 0 24 24\" width=\"20px\">\\n     <path d=\"M12 3.953a7.442 7.442 0 1 0 .001 14.884A7.442 7.442 0 0 0 12 3.953m0 14.05a6.61 6.61 0 1 1 0-13.218 6.61 6.61 0 0 1 0 13.219M10.343 11.9a.91.91 0 1 1-1.821 0 .91.91 0 0 1 1.821 0m5.134 0a.91.91 0 1 1-1.821 0 .91.91 0 0 1 1.82 0m.82-1.897.84-.913h-1.863A5.8 5.8 0 0 0 12 8.08a5.77 5.77 0 0 0-3.27 1.008H6.862l.84.913a2.567 2.567 0 1 0 3.475 3.78l.823.896.823-.895a2.568 2.568 0 1 0 3.474-3.78m-6.865 3.634a1.738 1.738 0 1 1 0-3.476 1.738 1.738 0 0 1 0 3.476M12 11.85c0-1.143-.832-2.124-1.929-2.543A5 5 0 0 1 12 8.92a5 5 0 0 1 1.928.386c-1.096.42-1.927 1.4-1.927 2.543m2.566 1.787a1.738 1.738 0 1 1 .001-3.476 1.738 1.738 0 0 1 0 3.476m-8.456 3.719s-.377-.946-1.396-1.903c-1.02-.957-2.303-1.132-2.303-1.132s.457 1.02 1.54 2.04c1.086 1.017 2.159.995 2.159.995m2.568 1.41s-.524-.511-1.479-.883-1.861-.191-1.861-.191.598.54 1.615.935c1.016.397 1.725.139 1.725.139m2.493.505s-.545-.224-1.357-.196-1.415.47-1.415.47.608.222 1.473.193 1.3-.467 1.3-.467m-6.186-4.203s-.175-1.008-.974-2.154c-.8-1.147-2.015-1.578-2.015-1.578s.238 1.098 1.089 2.319c.85 1.22 1.9 1.413 1.9 1.413m-1.003-3.071s.195-1.021-.134-2.393c-.328-1.371-1.294-2.21-1.294-2.21s-.17 1.128.18 2.589c.35 1.46 1.248 2.014 1.248 2.014\">\\n     </path>\\n     <path d=\"M17.887 17.355s.377-.946 1.396-1.903c1.02-.957 2.303-1.132 2.303-1.132s-.457 1.02-1.54 2.04c-1.086 1.017-2.159.995-2.159.995m-2.567 1.41s.524-.511 1.479-.883 1.861-.191 1.861-.191-.598.54-1.615.935c-1.016.397-1.725.139-1.725.139m-2.493.505s.545-.224 1.357-.196 1.415.47 1.415.47-.608.222-1.473.193-1.3-.467-1.3-.467m6.186-4.203s.175-1.008.974-2.154c.8-1.147 2.015-1.578 2.015-1.578s-.238 1.098-1.089 2.319c-.85 1.22-1.9 1.413-1.9 1.413m1.003-3.071s-.195-1.021.133-2.393c.33-1.371 1.293-2.21 1.293-2.21s.17 1.128-.18 2.589c-.349 1.46-1.246 2.014-1.246 2.014M12 20.047a.413.413 0 1 0 0-.827.413.413 0 0 0 0 .827\">\\n     </path>\\n    </svg>\\n   </div>\\n   <div class=\"biGQs _P fiohW oXJmt\">\\n    Travelers\\' Choice\\n    <!-- -->\\n    2024\\n   </div>\\n  </div>\\n  <div class=\"Pc\">\\n   <div class=\"GeBcn f\">\\n    <div class=\"VjUBU\">\\n     <div class=\"dfbUL S4 b H3\">\\n      MICHELIN\\n     </div>\\n     <a class=\"ipYtI _S S1 q Cj\" href=\"https://guide.michelin.com/en/new-york-state/new-york/restaurant/gallaghers?utm_source=tripadvisor&amp;utm_medium=partner&amp;utm_campaign=restaurants\" rel=\"nofollow\" target=\"_blank\">\\n      <span class=\"DUPRL\">\\n       View more on MICHELIN Guide\\n      </span>\\n     </a>\\n    </div>\\n   </div>\\n  </div>\\n  <div class=\"YElNV\">\\n   <hr class=\"RMdFe\"/>\\n  </div>\\n  <div class=\"khxWm f e Q3\">\\n   <span class=\"biGQs _P pZUbB osNWb\">\\n    <div class=\"jfdvS\">\\n     RATINGS\\n    </div>\\n   </span>\\n   <div class=\"YwaWb u f\">\\n    <div class=\"_W I\">\\n     <svg class=\"d Vb UmNoP\" height=\"14px\" viewbox=\"0 0 24 24\" width=\"14px\">\\n      <path clip-rule=\"evenodd\" d=\"M13.578 4.891 16.25 2.22l1.06 1.06-2.671 2.672c-.679.679-1.055 1.462-1.12 2.199-.043.5.054 1.003.327 1.472L18.75 4.72l1.06 1.06-4.906 4.906c.473.281.974.387 1.466.354.718-.047 1.467-.394 2.096-1.023A904 904 0 0 0 21.02 7.45l.226-.228h.001l1.066 1.055-.227.23a957 957 0 0 1-2.56 2.57c-.849.849-1.927 1.384-3.057 1.459a4.03 4.03 0 0 1-2.647-.768L12.591 13l7.72 7.72-1.061 1.06-5.97-5.97-3 3-1.75-1.75-4.72 4.72-1.06-1.06L7.47 16l-4.392-4.391a4.75 4.75 0 0 1 0-6.718l.702-.702 7.75 7.75 1.233-1.232a3.97 3.97 0 0 1-.737-2.686c.1-1.147.669-2.246 1.552-3.13M12.22 14.75 3.808 6.338a3.25 3.25 0 0 0 .33 4.21l6.142 6.141z\" fill-rule=\"evenodd\">\\n      </path>\\n     </svg>\\n    </div>\\n    <span class=\"biGQs _P pZUbB biKBZ hmDzD\">\\n     Food\\n    </span>\\n    <div class=\"JSTna\">\\n     <svg aria-labelledby=\":lithium-R1lkkbqbnknvlq:\" class=\"UctUV d H0\" height=\"12\" viewbox=\"0 0 128 24\" width=\"68\">\\n      <title id=\":lithium-R1lkkbqbnknvlq:\">\\n       4.4 of 5 bubbles\\n      </title>\\n      <path d=\"M 12 0C5.388 0 0 5.388 0 12s5.388 12 12 12 12-5.38 12-12c0-6.612-5.38-12-12-12z\" transform=\"\">\\n      </path>\\n      <path d=\"M 12 0C5.388 0 0 5.388 0 12s5.388 12 12 12 12-5.38 12-12c0-6.612-5.38-12-12-12z\" transform=\"translate(26 0)\">\\n      </path>\\n      <path d=\"M 12 0C5.388 0 0 5.388 0 12s5.388 12 12 12 12-5.38 12-12c0-6.612-5.38-12-12-12z\" transform=\"translate(52 0)\">\\n      </path>\\n      <path d=\"M 12 0C5.388 0 0 5.388 0 12s5.388 12 12 12 12-5.38 12-12c0-6.612-5.38-12-12-12z\" transform=\"translate(78 0)\">\\n      </path>\\n      <path d=\"M 12 0C5.389 0 0 5.389 0 12c0 6.62 5.389 12 12 12 6.62 0 12-5.379 12-12S18.621 0 12 0zm0 2a9.984 9.984 0 0110 10 9.976 9.976 0 01-10 10z\" transform=\"translate(104 0)\">\\n      </path>\\n     </svg>\\n    </div>\\n   </div>\\n   <div class=\"YwaWb u f\">\\n    <div class=\"_W I\">\\n     <svg class=\"d Vb UmNoP\" height=\"14px\" viewbox=\"0 0 24 24\" width=\"14px\">\\n      <path clip-rule=\"evenodd\" d=\"M11.997 4.25a.75.75 0 0 1 .75.75v1.281c4.481.378 8.004 4.139 8.004 8.717v.75H3.255v-.75a8.75 8.75 0 0 1 7.992-8.716V5a.75.75 0 0 1 .75-.75m-7.204 9.998h14.42a7.248 7.248 0 0 0-14.42 0M21 19.748H3v-1.5h18z\" fill-rule=\"evenodd\">\\n      </path>\\n     </svg>\\n    </div>\\n    <span class=\"biGQs _P pZUbB biKBZ hmDzD\">\\n     Service\\n    </span>\\n    <div class=\"JSTna\">\\n     <svg aria-labelledby=\":lithium-R1nkkbqbnknvlq:\" class=\"UctUV d H0\" height=\"12\" viewbox=\"0 0 128 24\" width=\"68\">\\n      <title id=\":lithium-R1nkkbqbnknvlq:\">\\n       4.3 of 5 bubbles\\n      </title>\\n      <path d=\"M 12 0C5.388 0 0 5.388 0 12s5.388 12 12 12 12-5.38 12-12c0-6.612-5.38-12-12-12z\" transform=\"\">\\n      </path>\\n      <path d=\"M 12 0C5.388 0 0 5.388 0 12s5.388 12 12 12 12-5.38 12-12c0-6.612-5.38-12-12-12z\" transform=\"translate(26 0)\">\\n      </path>\\n      <path d=\"M 12 0C5.388 0 0 5.388 0 12s5.388 12 12 12 12-5.38 12-12c0-6.612-5.38-12-12-12z\" transform=\"translate(52 0)\">\\n      </path>\\n      <path d=\"M 12 0C5.388 0 0 5.388 0 12s5.388 12 12 12 12-5.38 12-12c0-6.612-5.38-12-12-12z\" transform=\"translate(78 0)\">\\n      </path>\\n      <path d=\"M 12 0C5.389 0 0 5.389 0 12c0 6.62 5.389 12 12 12 6.62 0 12-5.379 12-12S18.621 0 12 0zm0 2a9.984 9.984 0 0110 10 9.976 9.976 0 01-10 10z\" transform=\"translate(104 0)\">\\n      </path>\\n     </svg>\\n    </div>\\n   </div>\\n   <div class=\"YwaWb u f\">\\n    <div class=\"_W I\">\\n     <svg class=\"d Vb UmNoP\" height=\"14px\" viewbox=\"0 0 24 24\" width=\"14px\">\\n      <path clip-rule=\"evenodd\" d=\"m18.873 7.76-1.16-4.05a.5.5 0 0 0-.619-.344L2.226 7.623A.5.5 0 0 0 2 7.761zm-6.44-1.5h4.45l-.337-1.177z\" fill-rule=\"evenodd\">\\n      </path>\\n      <path clip-rule=\"evenodd\" d=\"M3.5 8.39v10.763h17V8.39zm-1-1.5a.5.5 0 0 0-.5.5v12.763a.5.5 0 0 0 .5.5h19a.5.5 0 0 0 .5-.5V7.39a.5.5 0 0 0-.5-.5z\" fill-rule=\"evenodd\">\\n      </path>\\n      <path d=\"M18.873 13.29a1.15 1.15 0 1 1-2.3 0 1.15 1.15 0 0 1 2.3 0\">\\n      </path>\\n     </svg>\\n    </div>\\n    <span class=\"biGQs _P pZUbB biKBZ hmDzD\">\\n     Value\\n    </span>\\n    <div class=\"JSTna\">\\n     <svg aria-labelledby=\":lithium-R1pkkbqbnknvlq:\" class=\"UctUV d H0\" height=\"12\" viewbox=\"0 0 128 24\" width=\"68\">\\n      <title id=\":lithium-R1pkkbqbnknvlq:\">\\n       3.7 of 5 bubbles\\n      </title>\\n      <path d=\"M 12 0C5.388 0 0 5.388 0 12s5.388 12 12 12 12-5.38 12-12c0-6.612-5.38-12-12-12z\" transform=\"\">\\n      </path>\\n      <path d=\"M 12 0C5.388 0 0 5.388 0 12s5.388 12 12 12 12-5.38 12-12c0-6.612-5.38-12-12-12z\" transform=\"translate(26 0)\">\\n      </path>\\n      <path d=\"M 12 0C5.388 0 0 5.388 0 12s5.388 12 12 12 12-5.38 12-12c0-6.612-5.38-12-12-12z\" transform=\"translate(52 0)\">\\n      </path>\\n      <path d=\"M 12 0C5.389 0 0 5.389 0 12c0 6.62 5.389 12 12 12 6.62 0 12-5.379 12-12S18.621 0 12 0zm0 2a9.984 9.984 0 0110 10 9.976 9.976 0 01-10 10z\" transform=\"translate(78 0)\">\\n      </path>\\n      <path d=\"M 12 0C5.388 0 0 5.388 0 12s5.388 12 12 12 12-5.38 12-12c0-6.612-5.38-12-12-12zm0 2a9.983 9.983 0 019.995 10 10 10 0 01-10 10A10 10 0 012 12 10 10 0 0112 2z\" transform=\"translate(104 0)\">\\n      </path>\\n     </svg>\\n    </div>\\n   </div>\\n   <div class=\"YwaWb u f\">\\n    <div class=\"_W I\">\\n     <svg class=\"d Vb UmNoP\" height=\"14px\" viewbox=\"0 0 24 24\" width=\"14px\">\\n      <path clip-rule=\"evenodd\" d=\"M10.957 10.387v7.186h2.074V10.41a1.25 1.25 0 0 0-1.115-.512c-.426.027-.777.234-.959.49M11.82 8.4a2.76 2.76 0 0 1 2.612 1.413l.1.174v9.086H9.457v-9.052l.072-.152c.422-.895 1.363-1.41 2.29-1.47\" fill-rule=\"evenodd\">\\n      </path>\\n      <path clip-rule=\"evenodd\" d=\"M4.262 17.996a.1.1 0 0 1 .09-.145h15.296a.1.1 0 0 1 .093.139l-1.94 4.654a.1.1 0 0 1-.093.061H6.661a.1.1 0 0 1-.09-.055zM6.61 19.35l.92 1.854h9.246l.773-1.854zm5.352-18.055.594.77c.679.88 1.296 2.15 1.435 3.263.07.552.035 1.186-.305 1.705-.372.568-.994.83-1.724.83-.7 0-1.27-.3-1.604-.852-.301-.497-.355-1.104-.31-1.652.092-1.104.62-2.387 1.32-3.294zm-.321 4.938c.034.057.088.13.321.13.363 0 .443-.111.47-.152.058-.09.12-.302.07-.697-.058-.47-.254-1.03-.525-1.56-.236.514-.395 1.061-.433 1.53-.033.398.029.637.097.75\" fill-rule=\"evenodd\">\\n      </path>\\n     </svg>\\n    </div>\\n    <span class=\"biGQs _P pZUbB biKBZ hmDzD\">\\n     Atmosphere\\n    </span>\\n    <div class=\"JSTna\">\\n     <svg aria-labelledby=\":lithium-R1rkkbqbnknvlq:\" class=\"UctUV d H0\" height=\"12\" viewbox=\"0 0 128 24\" width=\"68\">\\n      <title id=\":lithium-R1rkkbqbnknvlq:\">\\n       3.9 of 5 bubbles\\n      </title>\\n      <path d=\"M 12 0C5.388 0 0 5.388 0 12s5.388 12 12 12 12-5.38 12-12c0-6.612-5.38-12-12-12z\" transform=\"\">\\n      </path>\\n      <path d=\"M 12 0C5.388 0 0 5.388 0 12s5.388 12 12 12 12-5.38 12-12c0-6.612-5.38-12-12-12z\" transform=\"translate(26 0)\">\\n      </path>\\n      <path d=\"M 12 0C5.388 0 0 5.388 0 12s5.388 12 12 12 12-5.38 12-12c0-6.612-5.38-12-12-12z\" transform=\"translate(52 0)\">\\n      </path>\\n      <path d=\"M 12 0C5.388 0 0 5.388 0 12s5.388 12 12 12 12-5.38 12-12c0-6.612-5.38-12-12-12z\" transform=\"translate(78 0)\">\\n      </path>\\n      <path d=\"M 12 0C5.388 0 0 5.388 0 12s5.388 12 12 12 12-5.38 12-12c0-6.612-5.38-12-12-12zm0 2a9.983 9.983 0 019.995 10 10 10 0 01-10 10A10 10 0 012 12 10 10 0 0112 2z\" transform=\"translate(104 0)\">\\n      </path>\\n     </svg>\\n    </div>\\n   </div>\\n  </div>\\n </div>\\n</div>\\n'"
      ]
     },
     "execution_count": 14,
     "metadata": {},
     "output_type": "execute_result"
    }
   ],
   "source": [
    "rating_info.prettify()"
   ]
  },
  {
   "cell_type": "code",
   "execution_count": 15,
   "metadata": {},
   "outputs": [
    {
     "name": "stdout",
     "output_type": "stream",
     "text": [
      "TOTAL RATING: 4.5\n"
     ]
    }
   ],
   "source": [
    "total_rating = rating_info.find('span', class_= 'biGQs').text.strip()\n",
    "print('TOTAL RATING:', total_rating)"
   ]
  },
  {
   "cell_type": "code",
   "execution_count": 16,
   "metadata": {},
   "outputs": [
    {
     "name": "stdout",
     "output_type": "stream",
     "text": [
      "TOTAL REVIEW: 5,980\n"
     ]
    }
   ],
   "source": [
    "total_reviews = rating_info.find('div', class_='jXaJR').text.strip().replace(' reviews', '')\n",
    "print('TOTAL REVIEW:', total_reviews)"
   ]
  },
  {
   "cell_type": "code",
   "execution_count": 17,
   "metadata": {},
   "outputs": [
    {
     "data": {
      "text/plain": [
       "[<a class=\"BMQDV _F Gv wSSLS SwZTJ FGwzt ukgoS\" href=\"#REVIEWS\"><span class=\"biGQs _P fiohW oXJmt\">5,980<!-- --> reviews</span></a>,\n",
       " <a class=\"BMQDV _F Gv wSSLS SwZTJ FGwzt ukgoS\" href=\"/Restaurants-g60763-New_York_City_New_York.html\"><span><b><span>#41</span></b> of 12,181 Restaurants in New York City</span></a>]"
      ]
     },
     "execution_count": 17,
     "metadata": {},
     "output_type": "execute_result"
    }
   ],
   "source": [
    "ranking_tag = rating_info.find_all('a', class_='BMQDV')\n",
    "ranking_tag"
   ]
  },
  {
   "cell_type": "code",
   "execution_count": 18,
   "metadata": {},
   "outputs": [],
   "source": [
    "ranking_text = ranking_tag[1].find('span').text.strip().replace('#', '')\n",
    "ranking = ranking_text.split()[0]\n"
   ]
  },
  {
   "cell_type": "code",
   "execution_count": 19,
   "metadata": {},
   "outputs": [],
   "source": [
    "# Find the index of the word \"in\"\n",
    "in_index = ranking_text.split().index('in')\n",
    "\n",
    "# Extract everything after \"in\" (the city name)\n",
    "city = ' '.join(ranking_text.split()[in_index + 1:])\n"
   ]
  },
  {
   "cell_type": "code",
   "execution_count": 20,
   "metadata": {},
   "outputs": [
    {
     "name": "stdout",
     "output_type": "stream",
     "text": [
      "RANKIG TEXT: 41 of 12,181 Restaurants in New York City\n",
      "RANKING: 41\n",
      "CITY: New York City\n"
     ]
    }
   ],
   "source": [
    "print('RANKIG TEXT:', ranking_text)\n",
    "print('RANKING:', ranking)\n",
    "print('CITY:', city)"
   ]
  },
  {
   "cell_type": "code",
   "execution_count": 21,
   "metadata": {},
   "outputs": [
    {
     "data": {
      "text/plain": [
       "<div class=\"khxWm f e Q3\"><span class=\"biGQs _P pZUbB osNWb\"><div class=\"jfdvS\">RATINGS</div></span><div class=\"YwaWb u f\"><div class=\"_W I\"><svg class=\"d Vb UmNoP\" height=\"14px\" viewbox=\"0 0 24 24\" width=\"14px\"><path clip-rule=\"evenodd\" d=\"M13.578 4.891 16.25 2.22l1.06 1.06-2.671 2.672c-.679.679-1.055 1.462-1.12 2.199-.043.5.054 1.003.327 1.472L18.75 4.72l1.06 1.06-4.906 4.906c.473.281.974.387 1.466.354.718-.047 1.467-.394 2.096-1.023A904 904 0 0 0 21.02 7.45l.226-.228h.001l1.066 1.055-.227.23a957 957 0 0 1-2.56 2.57c-.849.849-1.927 1.384-3.057 1.459a4.03 4.03 0 0 1-2.647-.768L12.591 13l7.72 7.72-1.061 1.06-5.97-5.97-3 3-1.75-1.75-4.72 4.72-1.06-1.06L7.47 16l-4.392-4.391a4.75 4.75 0 0 1 0-6.718l.702-.702 7.75 7.75 1.233-1.232a3.97 3.97 0 0 1-.737-2.686c.1-1.147.669-2.246 1.552-3.13M12.22 14.75 3.808 6.338a3.25 3.25 0 0 0 .33 4.21l6.142 6.141z\" fill-rule=\"evenodd\"></path></svg></div><span class=\"biGQs _P pZUbB biKBZ hmDzD\">Food</span><div class=\"JSTna\"><svg aria-labelledby=\":lithium-R1lkkbqbnknvlq:\" class=\"UctUV d H0\" height=\"12\" viewbox=\"0 0 128 24\" width=\"68\"><title id=\":lithium-R1lkkbqbnknvlq:\">4.4 of 5 bubbles</title><path d=\"M 12 0C5.388 0 0 5.388 0 12s5.388 12 12 12 12-5.38 12-12c0-6.612-5.38-12-12-12z\" transform=\"\"></path><path d=\"M 12 0C5.388 0 0 5.388 0 12s5.388 12 12 12 12-5.38 12-12c0-6.612-5.38-12-12-12z\" transform=\"translate(26 0)\"></path><path d=\"M 12 0C5.388 0 0 5.388 0 12s5.388 12 12 12 12-5.38 12-12c0-6.612-5.38-12-12-12z\" transform=\"translate(52 0)\"></path><path d=\"M 12 0C5.388 0 0 5.388 0 12s5.388 12 12 12 12-5.38 12-12c0-6.612-5.38-12-12-12z\" transform=\"translate(78 0)\"></path><path d=\"M 12 0C5.389 0 0 5.389 0 12c0 6.62 5.389 12 12 12 6.62 0 12-5.379 12-12S18.621 0 12 0zm0 2a9.984 9.984 0 0110 10 9.976 9.976 0 01-10 10z\" transform=\"translate(104 0)\"></path></svg></div></div><div class=\"YwaWb u f\"><div class=\"_W I\"><svg class=\"d Vb UmNoP\" height=\"14px\" viewbox=\"0 0 24 24\" width=\"14px\"><path clip-rule=\"evenodd\" d=\"M11.997 4.25a.75.75 0 0 1 .75.75v1.281c4.481.378 8.004 4.139 8.004 8.717v.75H3.255v-.75a8.75 8.75 0 0 1 7.992-8.716V5a.75.75 0 0 1 .75-.75m-7.204 9.998h14.42a7.248 7.248 0 0 0-14.42 0M21 19.748H3v-1.5h18z\" fill-rule=\"evenodd\"></path></svg></div><span class=\"biGQs _P pZUbB biKBZ hmDzD\">Service</span><div class=\"JSTna\"><svg aria-labelledby=\":lithium-R1nkkbqbnknvlq:\" class=\"UctUV d H0\" height=\"12\" viewbox=\"0 0 128 24\" width=\"68\"><title id=\":lithium-R1nkkbqbnknvlq:\">4.3 of 5 bubbles</title><path d=\"M 12 0C5.388 0 0 5.388 0 12s5.388 12 12 12 12-5.38 12-12c0-6.612-5.38-12-12-12z\" transform=\"\"></path><path d=\"M 12 0C5.388 0 0 5.388 0 12s5.388 12 12 12 12-5.38 12-12c0-6.612-5.38-12-12-12z\" transform=\"translate(26 0)\"></path><path d=\"M 12 0C5.388 0 0 5.388 0 12s5.388 12 12 12 12-5.38 12-12c0-6.612-5.38-12-12-12z\" transform=\"translate(52 0)\"></path><path d=\"M 12 0C5.388 0 0 5.388 0 12s5.388 12 12 12 12-5.38 12-12c0-6.612-5.38-12-12-12z\" transform=\"translate(78 0)\"></path><path d=\"M 12 0C5.389 0 0 5.389 0 12c0 6.62 5.389 12 12 12 6.62 0 12-5.379 12-12S18.621 0 12 0zm0 2a9.984 9.984 0 0110 10 9.976 9.976 0 01-10 10z\" transform=\"translate(104 0)\"></path></svg></div></div><div class=\"YwaWb u f\"><div class=\"_W I\"><svg class=\"d Vb UmNoP\" height=\"14px\" viewbox=\"0 0 24 24\" width=\"14px\"><path clip-rule=\"evenodd\" d=\"m18.873 7.76-1.16-4.05a.5.5 0 0 0-.619-.344L2.226 7.623A.5.5 0 0 0 2 7.761zm-6.44-1.5h4.45l-.337-1.177z\" fill-rule=\"evenodd\"></path><path clip-rule=\"evenodd\" d=\"M3.5 8.39v10.763h17V8.39zm-1-1.5a.5.5 0 0 0-.5.5v12.763a.5.5 0 0 0 .5.5h19a.5.5 0 0 0 .5-.5V7.39a.5.5 0 0 0-.5-.5z\" fill-rule=\"evenodd\"></path><path d=\"M18.873 13.29a1.15 1.15 0 1 1-2.3 0 1.15 1.15 0 0 1 2.3 0\"></path></svg></div><span class=\"biGQs _P pZUbB biKBZ hmDzD\">Value</span><div class=\"JSTna\"><svg aria-labelledby=\":lithium-R1pkkbqbnknvlq:\" class=\"UctUV d H0\" height=\"12\" viewbox=\"0 0 128 24\" width=\"68\"><title id=\":lithium-R1pkkbqbnknvlq:\">3.7 of 5 bubbles</title><path d=\"M 12 0C5.388 0 0 5.388 0 12s5.388 12 12 12 12-5.38 12-12c0-6.612-5.38-12-12-12z\" transform=\"\"></path><path d=\"M 12 0C5.388 0 0 5.388 0 12s5.388 12 12 12 12-5.38 12-12c0-6.612-5.38-12-12-12z\" transform=\"translate(26 0)\"></path><path d=\"M 12 0C5.388 0 0 5.388 0 12s5.388 12 12 12 12-5.38 12-12c0-6.612-5.38-12-12-12z\" transform=\"translate(52 0)\"></path><path d=\"M 12 0C5.389 0 0 5.389 0 12c0 6.62 5.389 12 12 12 6.62 0 12-5.379 12-12S18.621 0 12 0zm0 2a9.984 9.984 0 0110 10 9.976 9.976 0 01-10 10z\" transform=\"translate(78 0)\"></path><path d=\"M 12 0C5.388 0 0 5.388 0 12s5.388 12 12 12 12-5.38 12-12c0-6.612-5.38-12-12-12zm0 2a9.983 9.983 0 019.995 10 10 10 0 01-10 10A10 10 0 012 12 10 10 0 0112 2z\" transform=\"translate(104 0)\"></path></svg></div></div><div class=\"YwaWb u f\"><div class=\"_W I\"><svg class=\"d Vb UmNoP\" height=\"14px\" viewbox=\"0 0 24 24\" width=\"14px\"><path clip-rule=\"evenodd\" d=\"M10.957 10.387v7.186h2.074V10.41a1.25 1.25 0 0 0-1.115-.512c-.426.027-.777.234-.959.49M11.82 8.4a2.76 2.76 0 0 1 2.612 1.413l.1.174v9.086H9.457v-9.052l.072-.152c.422-.895 1.363-1.41 2.29-1.47\" fill-rule=\"evenodd\"></path><path clip-rule=\"evenodd\" d=\"M4.262 17.996a.1.1 0 0 1 .09-.145h15.296a.1.1 0 0 1 .093.139l-1.94 4.654a.1.1 0 0 1-.093.061H6.661a.1.1 0 0 1-.09-.055zM6.61 19.35l.92 1.854h9.246l.773-1.854zm5.352-18.055.594.77c.679.88 1.296 2.15 1.435 3.263.07.552.035 1.186-.305 1.705-.372.568-.994.83-1.724.83-.7 0-1.27-.3-1.604-.852-.301-.497-.355-1.104-.31-1.652.092-1.104.62-2.387 1.32-3.294zm-.321 4.938c.034.057.088.13.321.13.363 0 .443-.111.47-.152.058-.09.12-.302.07-.697-.058-.47-.254-1.03-.525-1.56-.236.514-.395 1.061-.433 1.53-.033.398.029.637.097.75\" fill-rule=\"evenodd\"></path></svg></div><span class=\"biGQs _P pZUbB biKBZ hmDzD\">Atmosphere</span><div class=\"JSTna\"><svg aria-labelledby=\":lithium-R1rkkbqbnknvlq:\" class=\"UctUV d H0\" height=\"12\" viewbox=\"0 0 128 24\" width=\"68\"><title id=\":lithium-R1rkkbqbnknvlq:\">3.9 of 5 bubbles</title><path d=\"M 12 0C5.388 0 0 5.388 0 12s5.388 12 12 12 12-5.38 12-12c0-6.612-5.38-12-12-12z\" transform=\"\"></path><path d=\"M 12 0C5.388 0 0 5.388 0 12s5.388 12 12 12 12-5.38 12-12c0-6.612-5.38-12-12-12z\" transform=\"translate(26 0)\"></path><path d=\"M 12 0C5.388 0 0 5.388 0 12s5.388 12 12 12 12-5.38 12-12c0-6.612-5.38-12-12-12z\" transform=\"translate(52 0)\"></path><path d=\"M 12 0C5.388 0 0 5.388 0 12s5.388 12 12 12 12-5.38 12-12c0-6.612-5.38-12-12-12z\" transform=\"translate(78 0)\"></path><path d=\"M 12 0C5.388 0 0 5.388 0 12s5.388 12 12 12 12-5.38 12-12c0-6.612-5.38-12-12-12zm0 2a9.983 9.983 0 019.995 10 10 10 0 01-10 10A10 10 0 012 12 10 10 0 0112 2z\" transform=\"translate(104 0)\"></path></svg></div></div></div>"
      ]
     },
     "execution_count": 21,
     "metadata": {},
     "output_type": "execute_result"
    }
   ],
   "source": [
    "rating_container = rating_info.find('div', class_='khxWm')\n",
    "rating_container"
   ]
  },
  {
   "cell_type": "code",
   "execution_count": 22,
   "metadata": {},
   "outputs": [
    {
     "data": {
      "text/plain": [
       "4"
      ]
     },
     "execution_count": 22,
     "metadata": {},
     "output_type": "execute_result"
    }
   ],
   "source": [
    "rating_category = rating_container.find_all('div', class_='YwaWb')\n",
    "len(rating_category)"
   ]
  },
  {
   "cell_type": "code",
   "execution_count": 23,
   "metadata": {},
   "outputs": [
    {
     "name": "stdout",
     "output_type": "stream",
     "text": [
      "FOOD RATING: 4.4\n",
      "SERVICE RATING: 4.3\n",
      "VALUE RATING: 3.7\n",
      "ATMOSPHERE RATING: 3.9\n"
     ]
    }
   ],
   "source": [
    "food_rating = rating_category[0].find('svg', class_='UctUV').find('title').text.strip().replace(' of 5 bubbles', '')\n",
    "service_rating = rating_category[1].find('svg', class_='UctUV').find('title').text.strip().replace(' of 5 bubbles', '')\n",
    "value_rating = rating_category[2].find('svg', class_='UctUV').find('title').text.strip().replace(' of 5 bubbles', '')\n",
    "atmosphere_rating = rating_category[3].find('svg', class_='UctUV').find('title').text.strip().replace(' of 5 bubbles', '')\n",
    "\n",
    "print('FOOD RATING:', food_rating)\n",
    "print('SERVICE RATING:', service_rating)\n",
    "print('VALUE RATING:', value_rating)\n",
    "print('ATMOSPHERE RATING:', atmosphere_rating)\n"
   ]
  },
  {
   "cell_type": "code",
   "execution_count": 24,
   "metadata": {},
   "outputs": [],
   "source": [
    "location_info = detail_cards[2]"
   ]
  },
  {
   "cell_type": "code",
   "execution_count": 25,
   "metadata": {},
   "outputs": [
    {
     "name": "stdout",
     "output_type": "stream",
     "text": [
      "ADDRESS: 228 W 52nd St, New York City, NY 10019-5802\n"
     ]
    }
   ],
   "source": [
    "address = location_info.find('span', class_='biGQs').text.strip()\n",
    "print('ADDRESS:', address)"
   ]
  },
  {
   "cell_type": "code",
   "execution_count": 26,
   "metadata": {},
   "outputs": [
    {
     "name": "stdout",
     "output_type": "stream",
     "text": [
      "PHONE NUMBER: +1 212-586-5000\n"
     ]
    }
   ],
   "source": [
    "phone_no = location_info.find('a', attrs={'aria-label': 'Call'}).get('href').replace('tel:','')\n",
    "print('PHONE NUMBER:', phone_no)"
   ]
  },
  {
   "cell_type": "code",
   "execution_count": 27,
   "metadata": {},
   "outputs": [],
   "source": [
    "review_cards = soup.find_all('div', attrs={'data-automation': 'reviewCard'})"
   ]
  },
  {
   "cell_type": "code",
   "execution_count": 28,
   "metadata": {},
   "outputs": [],
   "source": [
    "review = review_cards[0]"
   ]
  },
  {
   "cell_type": "code",
   "execution_count": 29,
   "metadata": {},
   "outputs": [
    {
     "name": "stdout",
     "output_type": "stream",
     "text": [
      "CUSTOMER RATING: 4.0\n"
     ]
    }
   ],
   "source": [
    "rating_element = review.find('svg', class_='UctUV')\n",
    "customer_rating = rating_element.find('title').text.strip().replace(' of 5 bubbles', '')\n",
    "print('CUSTOMER RATING:', customer_rating)"
   ]
  },
  {
   "cell_type": "code",
   "execution_count": 30,
   "metadata": {},
   "outputs": [
    {
     "name": "stdout",
     "output_type": "stream",
     "text": [
      "REVIEW TITLE: Poor service\n"
     ]
    }
   ],
   "source": [
    "review_title = review.find('div', attrs={'data-test-target': 'review-title'}).text.strip()\n",
    "print('REVIEW TITLE:', review_title)"
   ]
  },
  {
   "cell_type": "code",
   "execution_count": 31,
   "metadata": {},
   "outputs": [
    {
     "name": "stdout",
     "output_type": "stream",
     "text": [
      "REVIEW TEXT: On our last night in NYC we reserved a table at  Gallaghers to take advantage of the 'restaurants week menu' and upgraded to the steak option.  The waiter was pleasant at first but when he realised we wanted the special offer menu & no wine (we are not wine drinkers) he changed & became quite offhand we had to call him back to order drinks! He also began an argument with a lady on the next table over which drink she had ordered he was shouting at her saying that is what you ordered! Rude! Each course was placed in front of us without a word, each course came quickly & the whole experience felt really rushed (we were in the restaurant for 1hour 15 mins from being seated to eat a 3 course meal).  The food however was outstanding Fillet Mignon cooked perfectly & tasted delicious - before we had finished eating dessert the bill was placed on our table without a word so we paid & left.  If we could have just tipped the chefs we would have.Read more\n"
     ]
    }
   ],
   "source": [
    "review_text = review.find('div', attrs={'data-test-target': 'review-body'}).text.strip()\n",
    "print('REVIEW TEXT:', review_text)"
   ]
  },
  {
   "cell_type": "code",
   "execution_count": 32,
   "metadata": {},
   "outputs": [
    {
     "name": "stdout",
     "output_type": "stream",
     "text": [
      "CUSTOMER TYPE: friends\n"
     ]
    }
   ],
   "source": [
    "customer_type = review.find('span', class_='DlAxN').text.strip()\n",
    "print('CUSTOMER TYPE:', customer_type)"
   ]
  },
  {
   "cell_type": "code",
   "execution_count": 33,
   "metadata": {},
   "outputs": [
    {
     "name": "stdout",
     "output_type": "stream",
     "text": [
      "WRITTEN DATE: January 26, 2020\n"
     ]
    }
   ],
   "source": [
    "date_element = review.find('div', {'class': 'neAPm'})\n",
    "child_divs = date_element.find_all('div')\n",
    "date = child_divs[0].text.strip().replace('Written ', '')\n",
    "print('WRITTEN DATE:', date)"
   ]
  }
 ],
 "metadata": {
  "kernelspec": {
   "display_name": "webscraping-env",
   "language": "python",
   "name": "python3"
  },
  "language_info": {
   "codemirror_mode": {
    "name": "ipython",
    "version": 3
   },
   "file_extension": ".py",
   "mimetype": "text/x-python",
   "name": "python",
   "nbconvert_exporter": "python",
   "pygments_lexer": "ipython3",
   "version": "3.8.18"
  }
 },
 "nbformat": 4,
 "nbformat_minor": 2
}
