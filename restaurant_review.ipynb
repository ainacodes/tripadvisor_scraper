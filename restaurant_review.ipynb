{
 "cells": [
  {
   "cell_type": "code",
   "execution_count": null,
   "metadata": {},
   "outputs": [],
   "source": [
    "!pip install requests beautifulSoup4"
   ]
  },
  {
   "cell_type": "code",
   "execution_count": 2,
   "metadata": {},
   "outputs": [],
   "source": [
    "import requests\n",
    "from bs4 import BeautifulSoup"
   ]
  },
  {
   "cell_type": "code",
   "execution_count": 3,
   "metadata": {},
   "outputs": [],
   "source": [
    "url = 'https://www.tripadvisor.com/Restaurant_Review-g60763-d478965-Reviews-Gallaghers_Steakhouse-New_York_City_New_York.html'"
   ]
  },
  {
   "cell_type": "code",
   "execution_count": 4,
   "metadata": {},
   "outputs": [],
   "source": [
    "headers = {\n",
    "    \"User-Agent\": 'Mozilla/5.0 (Windows NT 10.0; Win64; x64) AppleWebKit/537.36 (KHTML, like Gecko) Chrome/129.0.0.0 Safari/537.36',\n",
    "    \"Accept\": \"text/html,application/xhtml+xml,application/xml;q=0.9,image/webp,*/*;q=0.8\",\n",
    "    \"Accept-Language\": \"en-US,en;q=0.5\",\n",
    "    \"Accept-Encoding\": \"gzip, deflate, br\",\n",
    "    \"DNT\": \"1\",\n",
    "    \"Connection\": \"keep-alive\",\n",
    "    \"Upgrade-Insecure-Requests\": \"1\",\n",
    "}\n"
   ]
  },
  {
   "cell_type": "code",
   "execution_count": 5,
   "metadata": {},
   "outputs": [
    {
     "data": {
      "text/plain": [
       "200"
      ]
     },
     "execution_count": 5,
     "metadata": {},
     "output_type": "execute_result"
    }
   ],
   "source": [
    "response = requests.get(url, headers=headers)\n",
    "response.status_code"
   ]
  },
  {
   "cell_type": "code",
   "execution_count": 6,
   "metadata": {},
   "outputs": [],
   "source": [
    "soup = BeautifulSoup(response.content, 'html.parser')"
   ]
  },
  {
   "cell_type": "code",
   "execution_count": 7,
   "metadata": {},
   "outputs": [
    {
     "data": {
      "text/plain": [
       "'<!DOCTYPE html>\\n<html lang=\"en-US\">\\n <head>\\n  <link href=\"https://static.tacdn.com/favicon.ico?v2\" id=\"favicon\" rel=\"icon\" type=\"image/x-icon\"/>\\n  <link color=\"#000000\" href=\"https://static.tacdn.com/img2/brand_refresh/application_icons/mask-icon.svg\" rel=\"mask-icon\" sizes=\"any\"/>\\n  <meta content=\"#34e0a1\" name=\"theme-color\"/>\\n  <meta content=\"telephone=no\" name=\"format-detection\"/>\\n  <meta content=\"TripAdvisor\" property=\"al:ios:app_name\"/>\\n  <meta content=\"284876795\" property=\"al:ios:app_store_'"
      ]
     },
     "execution_count": 7,
     "metadata": {},
     "output_type": "execute_result"
    }
   ],
   "source": [
    "soup.prettify()[:500]"
   ]
  },
  {
   "cell_type": "code",
   "execution_count": 8,
   "metadata": {},
   "outputs": [
    {
     "name": "stdout",
     "output_type": "stream",
     "text": [
      "RESTAURANT NAME: Gallaghers Steakhouse\n"
     ]
    }
   ],
   "source": [
    "restaurant_name = soup.find('h1').text.strip()\n",
    "print('RESTAURANT NAME:', restaurant_name)"
   ]
  },
  {
   "cell_type": "code",
   "execution_count": 9,
   "metadata": {},
   "outputs": [
    {
     "name": "stdout",
     "output_type": "stream",
     "text": [
      "GENERAL INFOS: $$$$, Steakhouse, Seafood, Gluten free options\n"
     ]
    }
   ],
   "source": [
    "general_infos = soup.find('span', class_='cPbcf').text.strip()\n",
    "print('GENERAL INFOS:', general_infos)"
   ]
  },
  {
   "cell_type": "code",
   "execution_count": 10,
   "metadata": {},
   "outputs": [],
   "source": [
    "# Split the string by commas\n",
    "info_parts = general_infos.split(', ')\n",
    "# Extract price level (first element)\n",
    "price_level = info_parts[0]\n",
    "\n",
    "# Extract cuisine types (the rest of the elements)\n",
    "cuisine_type = ', '.join(info_parts[1:])"
   ]
  },
  {
   "cell_type": "code",
   "execution_count": 11,
   "metadata": {},
   "outputs": [
    {
     "name": "stdout",
     "output_type": "stream",
     "text": [
      "PRICE LEVEL: $$$$\n",
      "CUISINE TYPE: Steakhouse, Seafood, Gluten free options\n"
     ]
    }
   ],
   "source": [
    "print('PRICE LEVEL:', price_level)\n",
    "print('CUISINE TYPE:', cuisine_type)"
   ]
  },
  {
   "cell_type": "code",
   "execution_count": 12,
   "metadata": {},
   "outputs": [
    {
     "data": {
      "text/plain": [
       "3"
      ]
     },
     "execution_count": 12,
     "metadata": {},
     "output_type": "execute_result"
    }
   ],
   "source": [
    "detail_cards = soup.find_all('div', attrs={'data-automation': 'OVERVIEW_TAB_ELEMENT'})\n",
    "len(detail_cards)"
   ]
  },
  {
   "cell_type": "code",
   "execution_count": 13,
   "metadata": {},
   "outputs": [],
   "source": [
    "rating_info = detail_cards[0]"
   ]
  },
  {
   "cell_type": "code",
   "execution_count": 14,
   "metadata": {},
   "outputs": [
    {
     "data": {
      "text/plain": [
       "'<div class=\"JPyJY Pk PY Px PK Gi B1 Z BB z TnPuu\" data-automation=\"OVERVIEW_TAB_ELEMENT\">\\n <div class=\"QSyom f e Q3 _Z\">\\n  <div class=\"biGQs _P fiohW ngXxk\">\\n   Ratings and reviews\\n  </div>\\n  <div class=\"sOyfn u f K\">\\n   <span class=\"biGQs _P fiohW uuBRH\">\\n    4.5\\n   </span>\\n   <div class=\"vdFew\">\\n    <svg aria-labelledby=\":lithium-R4ckbqbnknvlq:\" class=\"UctUV d H0\" height=\"16\" viewbox=\"0 0 128 24\" width=\"88\">\\n     <title id=\":lithium-R4ckbqbnknvlq:\">\\n      4.5 of 5 bubbles\\n     </title>\\n     <p'"
      ]
     },
     "execution_count": 14,
     "metadata": {},
     "output_type": "execute_result"
    }
   ],
   "source": [
    "rating_info.prettify()[:500]"
   ]
  },
  {
   "cell_type": "code",
   "execution_count": 15,
   "metadata": {},
   "outputs": [
    {
     "name": "stdout",
     "output_type": "stream",
     "text": [
      "TOTAL RATING: 4.5\n"
     ]
    }
   ],
   "source": [
    "total_rating = rating_info.find('span', class_= 'biGQs').text.strip()\n",
    "print('TOTAL RATING:', total_rating)"
   ]
  },
  {
   "cell_type": "code",
   "execution_count": 16,
   "metadata": {},
   "outputs": [
    {
     "name": "stdout",
     "output_type": "stream",
     "text": [
      "TOTAL REVIEW: 5,980\n"
     ]
    }
   ],
   "source": [
    "total_reviews = rating_info.find('div', class_='jXaJR').text.strip().replace(' reviews', '')\n",
    "print('TOTAL REVIEW:', total_reviews)"
   ]
  },
  {
   "cell_type": "code",
   "execution_count": 17,
   "metadata": {},
   "outputs": [
    {
     "data": {
      "text/plain": [
       "[<a class=\"BMQDV _F Gv wSSLS SwZTJ FGwzt ukgoS\" href=\"#REVIEWS\"><span class=\"biGQs _P fiohW oXJmt\">5,980<!-- --> reviews</span></a>,\n",
       " <a class=\"BMQDV _F Gv wSSLS SwZTJ FGwzt ukgoS\" href=\"/Restaurants-g60763-New_York_City_New_York.html\"><span><b><span>#41</span></b> of 12,181 Restaurants in New York City</span></a>]"
      ]
     },
     "execution_count": 17,
     "metadata": {},
     "output_type": "execute_result"
    }
   ],
   "source": [
    "ranking_tag = rating_info.find_all('a', class_='BMQDV')\n",
    "ranking_tag"
   ]
  },
  {
   "cell_type": "code",
   "execution_count": 18,
   "metadata": {},
   "outputs": [],
   "source": [
    "ranking_text = ranking_tag[1].find('span').text.strip().replace('#', '')\n",
    "ranking = ranking_text.split()[0]\n"
   ]
  },
  {
   "cell_type": "code",
   "execution_count": 19,
   "metadata": {},
   "outputs": [],
   "source": [
    "# Find the index of the word \"in\"\n",
    "in_index = ranking_text.split().index('in')\n",
    "\n",
    "# Extract everything after \"in\" (the city name)\n",
    "city = ' '.join(ranking_text.split()[in_index + 1:])\n"
   ]
  },
  {
   "cell_type": "code",
   "execution_count": 20,
   "metadata": {},
   "outputs": [
    {
     "name": "stdout",
     "output_type": "stream",
     "text": [
      "RANKIG TEXT: 41 of 12,181 Restaurants in New York City\n",
      "RANKING: 41\n",
      "CITY: New York City\n"
     ]
    }
   ],
   "source": [
    "print('RANKIG TEXT:', ranking_text)\n",
    "print('RANKING:', ranking)\n",
    "print('CITY:', city)"
   ]
  },
  {
   "cell_type": "code",
   "execution_count": null,
   "metadata": {},
   "outputs": [],
   "source": [
    "rating_container = rating_info.find('div', class_='khxWm')"
   ]
  },
  {
   "cell_type": "code",
   "execution_count": 22,
   "metadata": {},
   "outputs": [
    {
     "data": {
      "text/plain": [
       "4"
      ]
     },
     "execution_count": 22,
     "metadata": {},
     "output_type": "execute_result"
    }
   ],
   "source": [
    "rating_category = rating_container.find_all('div', class_='YwaWb')\n",
    "len(rating_category)"
   ]
  },
  {
   "cell_type": "code",
   "execution_count": 23,
   "metadata": {},
   "outputs": [
    {
     "name": "stdout",
     "output_type": "stream",
     "text": [
      "FOOD RATING: 4.4\n",
      "SERVICE RATING: 4.3\n",
      "VALUE RATING: 3.7\n",
      "ATMOSPHERE RATING: 3.9\n"
     ]
    }
   ],
   "source": [
    "food_rating = rating_category[0].find('svg', class_='UctUV').find('title').text.strip().replace(' of 5 bubbles', '')\n",
    "service_rating = rating_category[1].find('svg', class_='UctUV').find('title').text.strip().replace(' of 5 bubbles', '')\n",
    "value_rating = rating_category[2].find('svg', class_='UctUV').find('title').text.strip().replace(' of 5 bubbles', '')\n",
    "atmosphere_rating = rating_category[3].find('svg', class_='UctUV').find('title').text.strip().replace(' of 5 bubbles', '')\n",
    "\n",
    "print('FOOD RATING:', food_rating)\n",
    "print('SERVICE RATING:', service_rating)\n",
    "print('VALUE RATING:', value_rating)\n",
    "print('ATMOSPHERE RATING:', atmosphere_rating)\n"
   ]
  },
  {
   "cell_type": "code",
   "execution_count": 24,
   "metadata": {},
   "outputs": [],
   "source": [
    "location_info = detail_cards[2]"
   ]
  },
  {
   "cell_type": "code",
   "execution_count": 25,
   "metadata": {},
   "outputs": [
    {
     "name": "stdout",
     "output_type": "stream",
     "text": [
      "ADDRESS: 228 W 52nd St, New York City, NY 10019-5802\n"
     ]
    }
   ],
   "source": [
    "address = location_info.find('span', class_='biGQs').text.strip()\n",
    "print('ADDRESS:', address)"
   ]
  },
  {
   "cell_type": "code",
   "execution_count": 26,
   "metadata": {},
   "outputs": [
    {
     "name": "stdout",
     "output_type": "stream",
     "text": [
      "PHONE NUMBER: +1 212-586-5000\n"
     ]
    }
   ],
   "source": [
    "phone_no = location_info.find('a', attrs={'aria-label': 'Call'}).get('href').replace('tel:','')\n",
    "print('PHONE NUMBER:', phone_no)"
   ]
  },
  {
   "cell_type": "code",
   "execution_count": 27,
   "metadata": {},
   "outputs": [],
   "source": [
    "review_cards = soup.find_all('div', attrs={'data-automation': 'reviewCard'})"
   ]
  },
  {
   "cell_type": "code",
   "execution_count": 28,
   "metadata": {},
   "outputs": [],
   "source": [
    "review = review_cards[0]"
   ]
  },
  {
   "cell_type": "code",
   "execution_count": 29,
   "metadata": {},
   "outputs": [
    {
     "name": "stdout",
     "output_type": "stream",
     "text": [
      "CUSTOMER RATING: 4.0\n"
     ]
    }
   ],
   "source": [
    "rating_element = review.find('svg', class_='UctUV')\n",
    "customer_rating = rating_element.find('title').text.strip().replace(' of 5 bubbles', '')\n",
    "print('CUSTOMER RATING:', customer_rating)"
   ]
  },
  {
   "cell_type": "code",
   "execution_count": 30,
   "metadata": {},
   "outputs": [
    {
     "name": "stdout",
     "output_type": "stream",
     "text": [
      "REVIEW TITLE: Poor service\n"
     ]
    }
   ],
   "source": [
    "review_title = review.find('div', attrs={'data-test-target': 'review-title'}).text.strip()\n",
    "print('REVIEW TITLE:', review_title)"
   ]
  },
  {
   "cell_type": "code",
   "execution_count": 31,
   "metadata": {},
   "outputs": [
    {
     "name": "stdout",
     "output_type": "stream",
     "text": [
      "REVIEW TEXT: On our last night in NYC we reserved a table at  Gallaghers to take advantage of the 'restaurants week menu' and upgraded to the steak option.  The waiter was pleasant at first but when he realised we wanted the special offer menu & no wine (we are not wine drinkers) he changed & became quite offhand we had to call him back to order drinks! He also began an argument with a lady on the next table over which drink she had ordered he was shouting at her saying that is what you ordered! Rude! Each course was placed in front of us without a word, each course came quickly & the whole experience felt really rushed (we were in the restaurant for 1hour 15 mins from being seated to eat a 3 course meal).  The food however was outstanding Fillet Mignon cooked perfectly & tasted delicious - before we had finished eating dessert the bill was placed on our table without a word so we paid & left.  If we could have just tipped the chefs we would have.Read more\n"
     ]
    }
   ],
   "source": [
    "review_text = review.find('div', attrs={'data-test-target': 'review-body'}).text.strip()\n",
    "print('REVIEW TEXT:', review_text)"
   ]
  },
  {
   "cell_type": "code",
   "execution_count": 32,
   "metadata": {},
   "outputs": [
    {
     "name": "stdout",
     "output_type": "stream",
     "text": [
      "CUSTOMER TYPE: friends\n"
     ]
    }
   ],
   "source": [
    "customer_type = review.find('span', class_='DlAxN').text.strip()\n",
    "print('CUSTOMER TYPE:', customer_type)"
   ]
  },
  {
   "cell_type": "code",
   "execution_count": 33,
   "metadata": {},
   "outputs": [
    {
     "name": "stdout",
     "output_type": "stream",
     "text": [
      "WRITTEN DATE: January 26, 2020\n"
     ]
    }
   ],
   "source": [
    "date_element = review.find('div', {'class': 'neAPm'})\n",
    "child_divs = date_element.find_all('div')\n",
    "date = child_divs[0].text.strip().replace('Written ', '')\n",
    "print('WRITTEN DATE:', date)"
   ]
  }
 ],
 "metadata": {
  "kernelspec": {
   "display_name": "webscraping-env",
   "language": "python",
   "name": "python3"
  },
  "language_info": {
   "codemirror_mode": {
    "name": "ipython",
    "version": 3
   },
   "file_extension": ".py",
   "mimetype": "text/x-python",
   "name": "python",
   "nbconvert_exporter": "python",
   "pygments_lexer": "ipython3",
   "version": "3.8.18"
  }
 },
 "nbformat": 4,
 "nbformat_minor": 2
}
